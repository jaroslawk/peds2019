{
 "cells": [
  {
   "cell_type": "code",
   "execution_count": 8,
   "id": "4b9df34a-48a3-4508-8972-3db7507ac718",
   "metadata": {},
   "outputs": [
    {
     "data": {
      "text/plain": [
       "(510101, 76515, 76515, 357071)"
      ]
     },
     "execution_count": 8,
     "metadata": {},
     "output_type": "execute_result"
    }
   ],
   "source": [
    "import pandas as pd\n",
    "import seaborn as sns\n",
    "import matplotlib.pyplot as plt\n",
    "\n",
    "test = pd.read_csv('./data/sample/human_test_vlen.txt',header=None, encoding='utf-8',names=['seq'])\n",
    "test.loc[:,'data_type']='test'\n",
    "val = pd.read_csv('./data/sample/human_val_vlen.txt',header=None, encoding='utf-8',names=['seq'])\n",
    "val.loc[:,'data_type']='val'\n",
    "train = pd.read_csv('./data/sample/human_train_vlen.txt',header=None, encoding='utf-8',names=['seq'])\n",
    "train.loc[:,'data_type']='train'\n",
    "\n",
    "data=pd.concat([test,val,train])\n",
    "data['seq_len'] = data.seq.str.len()\n",
    "len(data), len(val), len(test), len(train)"
   ]
  },
  {
   "cell_type": "markdown",
   "id": "80318147-124c-4b2f-8074-2a6c27a4a066",
   "metadata": {},
   "source": [
    "# Check output of trained model"
   ]
  },
  {
   "cell_type": "code",
   "execution_count": 1,
   "id": "23a87614-5b63-44d4-ba54-706cccb14910",
   "metadata": {},
   "outputs": [
    {
     "ename": "SyntaxError",
     "evalue": "invalid syntax (ablstm.py, line 62)",
     "output_type": "error",
     "traceback": [
      "Traceback \u001b[0;36m(most recent call last)\u001b[0m:\n",
      "  File \u001b[1;32m\"/opt/conda/lib/python3.7/site-packages/IPython/core/interactiveshell.py\"\u001b[0m, line \u001b[1;32m3444\u001b[0m, in \u001b[1;35mrun_code\u001b[0m\n    exec(code_obj, self.user_global_ns, self.user_ns)\n",
      "\u001b[0;36m  File \u001b[0;32m\"/tmp/ipykernel_161/1520387049.py\"\u001b[0;36m, line \u001b[0;32m1\u001b[0;36m, in \u001b[0;35m<module>\u001b[0;36m\u001b[0m\n\u001b[0;31m    from ablstm import ModelLSTM\u001b[0m\n",
      "\u001b[0;36m  File \u001b[0;32m\"/home/jupyter/peds2019/ablstm.py\"\u001b[0;36m, line \u001b[0;32m62\u001b[0m\n\u001b[0;31m    <<<<<<< Updated upstream\u001b[0m\n\u001b[0m     ^\u001b[0m\n\u001b[0;31mSyntaxError\u001b[0m\u001b[0;31m:\u001b[0m invalid syntax\n"
     ]
    }
   ],
   "source": [
    "from ablstm import ModelLSTM\n",
    "model = ModelLSTM(embedding_dim=64, hidden_dim=64, device='cuda', gapped=True, fixed_len=False)\n",
    "model.load(fn='./saved_models/human/lstm_0.704043.npy')"
   ]
  },
  {
   "cell_type": "code",
   "execution_count": 11,
   "id": "b524e96c-2837-4d32-9239-3b6cb68ea2d9",
   "metadata": {},
   "outputs": [
    {
     "name": "stderr",
     "output_type": "stream",
     "text": [
      "100%|| 76515/76515 [00:10<00:00, 7154.50seq/s]\n"
     ]
    }
   ],
   "source": [
    "tst_fn = './data/sample/human_test.txt'\n",
    "tst_scores = model.eval(fn=tst_fn, batch_size=512)\n"
   ]
  },
  {
   "cell_type": "code",
   "execution_count": 16,
   "id": "fa7a4d70-e332-4969-b798-f3d7020ac02e",
   "metadata": {},
   "outputs": [
    {
     "data": {
      "text/html": [
       "<div>\n",
       "<style scoped>\n",
       "    .dataframe tbody tr th:only-of-type {\n",
       "        vertical-align: middle;\n",
       "    }\n",
       "\n",
       "    .dataframe tbody tr th {\n",
       "        vertical-align: top;\n",
       "    }\n",
       "\n",
       "    .dataframe thead th {\n",
       "        text-align: right;\n",
       "    }\n",
       "</style>\n",
       "<table border=\"1\" class=\"dataframe\">\n",
       "  <thead>\n",
       "    <tr style=\"text-align: right;\">\n",
       "      <th></th>\n",
       "      <th>scores</th>\n",
       "    </tr>\n",
       "  </thead>\n",
       "  <tbody>\n",
       "    <tr>\n",
       "      <th>0</th>\n",
       "      <td>3.697726</td>\n",
       "    </tr>\n",
       "    <tr>\n",
       "      <th>1</th>\n",
       "      <td>2.639605</td>\n",
       "    </tr>\n",
       "  </tbody>\n",
       "</table>\n",
       "</div>"
      ],
      "text/plain": [
       "     scores\n",
       "0  3.697726\n",
       "1  2.639605"
      ]
     },
     "execution_count": 16,
     "metadata": {},
     "output_type": "execute_result"
    }
   ],
   "source": [
    "scores= pd.DataFrame(data=tst_scores, columns=['scores'])\n",
    "scores.head(2)"
   ]
  },
  {
   "cell_type": "code",
   "execution_count": 17,
   "id": "c133aa15-6283-4066-8475-9da21931e48c",
   "metadata": {},
   "outputs": [
    {
     "data": {
      "text/plain": [
       "<seaborn.axisgrid.FacetGrid at 0x7fa86fe3f690>"
      ]
     },
     "execution_count": 17,
     "metadata": {},
     "output_type": "execute_result"
    },
    {
     "data": {
      "image/png": "[encoded data removed]",
      "text/plain": [
       "<Figure size 360x360 with 1 Axes>"
      ]
     },
     "metadata": {
      "needs_background": "light"
     },
     "output_type": "display_data"
    }
   ],
   "source": [
    "sns.displot(scores.scores)"
   ]
  },
  {
   "cell_type": "code",
   "execution_count": null,
   "id": "ecf39606-5600-4d06-87ee-bf8e404c5688",
   "metadata": {},
   "outputs": [],
   "source": [
    "show accuracy on validation set"
   ]
  }
 ],
 "metadata": {
  "kernelspec": {
   "display_name": "Python 3 (ipykernel)",
   "language": "python",
   "name": "python3"
  },
  "language_info": {
   "codemirror_mode": {
    "name": "ipython",
    "version": 3
   },
   "file_extension": ".py",
   "mimetype": "text/x-python",
   "name": "python",
   "nbconvert_exporter": "python",
   "pygments_lexer": "ipython3",
   "version": "3.7.12"
  }
 },
 "nbformat": 4,
 "nbformat_minor": 5
}

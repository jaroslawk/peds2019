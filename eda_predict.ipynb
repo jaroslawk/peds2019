{
 "cells": [
  {
   "cell_type": "code",
   "execution_count": 17,
   "id": "4b9df34a-48a3-4508-8972-3db7507ac718",
   "metadata": {},
   "outputs": [
    {
     "data": {
      "text/plain": [
       "(510101, 76515, 76515, 357071)"
      ]
     },
     "execution_count": 17,
     "metadata": {},
     "output_type": "execute_result"
    }
   ],
   "source": [
    "import pandas as pd\n",
    "import seaborn as sns\n",
    "import matplotlib.pyplot as plt\n",
    "\n",
    "test = pd.read_csv('./data/sample/human_test_vlen.txt',header=None, encoding='utf-8',names=['seq'])\n",
    "test.loc[:,'data_type']='test'\n",
    "val = pd.read_csv('./data/sample/human_val_vlen.txt',header=None, encoding='utf-8',names=['seq'])\n",
    "val.loc[:,'data_type']='val'\n",
    "train = pd.read_csv('./data/sample/human_train_vlen.txt',header=None, encoding='utf-8',names=['seq'])\n",
    "train.loc[:,'data_type']='train'\n",
    "\n",
    "data=pd.concat([test,val,train])\n",
    "data['seq_len'] = data.seq.str.len()\n",
    "len(data), len(val), len(test), len(train)"
   ]
  },
  {
   "cell_type": "markdown",
   "id": "80318147-124c-4b2f-8074-2a6c27a4a066",
   "metadata": {},
   "source": [
    "# Check output of trained model"
   ]
  },
  {
   "cell_type": "code",
   "execution_count": 2,
   "id": "23a87614-5b63-44d4-ba54-706cccb14910",
   "metadata": {},
   "outputs": [],
   "source": [
    "from ablstm import ModelLSTM\n",
    "from model import evaluate\n",
    "from utils_data import ProteinSeqDataset\n",
    "import torch\n",
    "import pandas as pd\n",
    "model = ModelLSTM(embedding_dim=64, hidden_dim=64, device='cpu', gapped=True, fixed_len=False)\n",
    "model.load(fn='./saved_models/human/lstm_0.704043.npy')"
   ]
  },
  {
   "cell_type": "code",
   "execution_count": 3,
   "id": "b524e96c-2837-4d32-9239-3b6cb68ea2d9",
   "metadata": {},
   "outputs": [
    {
     "name": "stderr",
     "output_type": "stream",
     "text": [
      "100%|| 357071/357071 [03:59<00:00, 1490.81seq/s]\n",
      "100%|| 76515/76515 [00:50<00:00, 1503.50seq/s]\n",
      "100%|| 76515/76515 [00:51<00:00, 1497.09seq/s]\n"
     ]
    },
    {
     "data": {
      "text/plain": [
       "(0.82314368457934, 0.8226999070476345, 0.8226999070476345)"
      ]
     },
     "execution_count": 3,
     "metadata": {},
     "output_type": "execute_result"
    }
   ],
   "source": [
    "train_tst_scores, train_predictions, train_acc_mean = evaluate(model, file_path='./data/sample/human_train_vlen.txt', batch_size=512, gapped=True)\n",
    "test_tst_scores, test_predictions, test_acc_mean = evaluate(model, file_path='./data/sample/human_val_vlen.txt', batch_size=512, gapped=True)\n",
    "val_tst_scores, val_predictions, val_acc_mean = evaluate(model, file_path='./data/sample/human_val_vlen.txt', batch_size=512, gapped=True)\n",
    "train_acc_mean, test_acc_mean, val_acc_mean"
   ]
  },
  {
   "cell_type": "code",
   "execution_count": 24,
   "id": "9ea07e9c-830c-404b-9e03-804bec7bd11c",
   "metadata": {},
   "outputs": [],
   "source": [
    "train['pred'] = [''.join(pred) for batch in train_predictions for pred in batch]\n",
    "train['score'] = train_tst_scores\n",
    "test['pred'] = [''.join(pred) for batch in test_predictions for pred in batch]\n",
    "test['score'] = test_tst_scores\n",
    "val['pred'] = [''.join(pred) for batch in val_predictions for pred in batch]\n",
    "val['score'] = val_tst_scores"
   ]
  },
  {
   "cell_type": "code",
   "execution_count": 34,
   "id": "923e583d-adef-4803-aa2d-3e174433ee84",
   "metadata": {},
   "outputs": [],
   "source": [
    "train.to_csv('./output/train_predicted.csv')\n",
    "test.to_csv('./output/test_predicted.csv')\n",
    "val.to_csv('./output/val_predicted.csv')"
   ]
  },
  {
   "cell_type": "code",
   "execution_count": 25,
   "id": "a564f7c9-ea71-4ebf-9e0e-ea546b0dc12b",
   "metadata": {},
   "outputs": [
    {
     "data": {
      "text/html": [
       "<div>\n",
       "<style scoped>\n",
       "    .dataframe tbody tr th:only-of-type {\n",
       "        vertical-align: middle;\n",
       "    }\n",
       "\n",
       "    .dataframe tbody tr th {\n",
       "        vertical-align: top;\n",
       "    }\n",
       "\n",
       "    .dataframe thead th {\n",
       "        text-align: right;\n",
       "    }\n",
       "</style>\n",
       "<table border=\"1\" class=\"dataframe\">\n",
       "  <thead>\n",
       "    <tr style=\"text-align: right;\">\n",
       "      <th></th>\n",
       "      <th>seq</th>\n",
       "      <th>data_type</th>\n",
       "      <th>pred</th>\n",
       "      <th>score</th>\n",
       "    </tr>\n",
       "  </thead>\n",
       "  <tbody>\n",
       "    <tr>\n",
       "      <th>0</th>\n",
       "      <td>EVRLTESGGGLVQPGGSLRLSCAASGFPFGDYAMHWVRQPAERGIE...</td>\n",
       "      <td>train</td>\n",
       "      <td>EVQLVESGGGLVQPGGSLRLSCAASGFTFDDYAMHWVRQAPGKGLE...</td>\n",
       "      <td>1.088260</td>\n",
       "    </tr>\n",
       "    <tr>\n",
       "      <th>1</th>\n",
       "      <td>DVQLVDSGGGLVQPGGSLRLSCAASGFTVSNSYIHWVRQAPGKGLE...</td>\n",
       "      <td>train</td>\n",
       "      <td>DVQLVDSGGGLVQPGGSLRLSCAASGFTVSNSYIHWVRQAPGKGLE...</td>\n",
       "      <td>0.245992</td>\n",
       "    </tr>\n",
       "  </tbody>\n",
       "</table>\n",
       "</div>"
      ],
      "text/plain": [
       "                                                 seq data_type  \\\n",
       "0  EVRLTESGGGLVQPGGSLRLSCAASGFPFGDYAMHWVRQPAERGIE...     train   \n",
       "1  DVQLVDSGGGLVQPGGSLRLSCAASGFTVSNSYIHWVRQAPGKGLE...     train   \n",
       "\n",
       "                                                pred     score  \n",
       "0  EVQLVESGGGLVQPGGSLRLSCAASGFTFDDYAMHWVRQAPGKGLE...  1.088260  \n",
       "1  DVQLVDSGGGLVQPGGSLRLSCAASGFTVSNSYIHWVRQAPGKGLE...  0.245992  "
      ]
     },
     "execution_count": 25,
     "metadata": {},
     "output_type": "execute_result"
    }
   ],
   "source": [
    "train.head(2)"
   ]
  },
  {
   "cell_type": "code",
   "execution_count": 28,
   "id": "34f9d30a-ca71-44e5-b1bd-eae09899d0b7",
   "metadata": {},
   "outputs": [
    {
     "data": {
      "text/plain": [
       "<seaborn.axisgrid.FacetGrid at 0x7f82701d1450>"
      ]
     },
     "execution_count": 28,
     "metadata": {},
     "output_type": "execute_result"
    },
    {
     "data": {
      "image/png": "[encoded data removed]",
      "text/plain": [
       "<Figure size 360x360 with 1 Axes>"
      ]
     },
     "metadata": {
      "needs_background": "light"
     },
     "output_type": "display_data"
    },
    {
     "data": {
      "image/png": "[encoded data removed]",
      "text/plain": [
       "<Figure size 360x360 with 1 Axes>"
      ]
     },
     "metadata": {
      "needs_background": "light"
     },
     "output_type": "display_data"
    },
    {
     "data": {
      "image/png": "[encoded data removed]",
      "text/plain": [
       "<Figure size 360x360 with 1 Axes>"
      ]
     },
     "metadata": {
      "needs_background": "light"
     },
     "output_type": "display_data"
    }
   ],
   "source": [
    "sns.displot(train.score)\n",
    "sns.displot(test.score)\n",
    "sns.displot(val.score)"
   ]
  },
  {
   "cell_type": "markdown",
   "id": "85dfd10b-3c56-498e-9bdc-d66f40610776",
   "metadata": {},
   "source": [
    "# Mouse seq vs human model"
   ]
  },
  {
   "cell_type": "code",
   "execution_count": 32,
   "id": "c3aca694-a9d6-44cc-8135-959709285b3a",
   "metadata": {},
   "outputs": [
    {
     "name": "stderr",
     "output_type": "stream",
     "text": [
      "100%|| 500000/500000 [05:04<00:00, 1640.38seq/s]\n"
     ]
    }
   ],
   "source": [
    "mouse = pd.read_csv('./data/sample/mouse_test_vlen.txt',header=None, encoding='utf-8',names=['seq'])\n",
    "mouse_tst_scores, mouse_predictions, mouse_acc_mean = evaluate(model, file_path='./data/sample/mouse_test_vlen.txt', batch_size=512, gapped=True)"
   ]
  },
  {
   "cell_type": "code",
   "execution_count": 33,
   "id": "fb6a390e-33a4-458a-b01d-f7b4944488d3",
   "metadata": {},
   "outputs": [
    {
     "data": {
      "text/plain": [
       "0.6128759582195046"
      ]
     },
     "execution_count": 33,
     "metadata": {},
     "output_type": "execute_result"
    }
   ],
   "source": [
    "mouse_acc_mean"
   ]
  },
  {
   "cell_type": "code",
   "execution_count": 35,
   "id": "9cde733d-e18c-40a9-94a7-2b7ca8868c22",
   "metadata": {},
   "outputs": [
    {
     "data": {
      "text/plain": [
       "<seaborn.axisgrid.FacetGrid at 0x7f82631eca90>"
      ]
     },
     "execution_count": 35,
     "metadata": {},
     "output_type": "execute_result"
    },
    {
     "data": {
      "image/png": "[encoded data removed]",
      "text/plain": [
       "<Figure size 360x360 with 1 Axes>"
      ]
     },
     "metadata": {
      "needs_background": "light"
     },
     "output_type": "display_data"
    }
   ],
   "source": [
    "sns.displot(mouse_tst_scores)"
   ]
  },
  {
   "cell_type": "code",
   "execution_count": null,
   "id": "2b245311-f568-4d4c-8c8a-2a5e1f98a3fb",
   "metadata": {},
   "outputs": [],
   "source": []
  }
 ],
 "metadata": {
  "kernelspec": {
   "display_name": "Python 3 (ipykernel)",
   "language": "python",
   "name": "python3"
  },
  "language_info": {
   "codemirror_mode": {
    "name": "ipython",
    "version": 3
   },
   "file_extension": ".py",
   "mimetype": "text/x-python",
   "name": "python",
   "nbconvert_exporter": "python",
   "pygments_lexer": "ipython3",
   "version": "3.7.12"
  }
 },
 "nbformat": 4,
 "nbformat_minor": 5
}

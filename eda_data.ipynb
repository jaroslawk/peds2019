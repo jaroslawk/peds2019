{
 "cells": [
  {
   "cell_type": "markdown",
   "id": "b3a6be82-5b5c-423d-991d-6723355b5982",
   "metadata": {},
   "source": [
    "# Assignment topic\n",
    "Developing a machine learning model to reduce the immunogenicity of an antibody-based drug.\n",
    "\n",
    "The problem that you will be solving is one of ‘humanization’. When we develop antibody\n",
    "therapeutics, we typically immunize animals (mostly mice) to produce antibodies. Such\n",
    "murine antibodies would elicit an immune response in humans, so they need to be mutated\n",
    "to look as ‘human’ as possible.\n",
    "In 2019, scientists at Visterra created a bi-LSTM based model that learned the features of\n",
    "murine, human antibody sequences. They used a (small) portion of our database of human\n",
    "and mouse sequences to create a separate model for each organism (see repo below,\n",
    "especially the associated notebook that provides a walkthrough).\n",
    "https://github.com/vkola-lab/peds2019\n",
    "Such models are useful first approximations for humanization as after introducing some\n",
    "mutations to the framework (so as not to destroy binding mediated by CDRs) you can gauge\n",
    "whether your new sequence looks ‘more human’.\n",
    "The peds2019 model however was not trained to discriminate between the different\n",
    "antibody sequences, e.g. mouse vs human. Such a model appears crucial to obtain any kind\n",
    "of correlation with the experimentally observed immunogenicity values for therapeutic\n",
    "antibodies (here).<BR>\n",
    "__Your task therefore is to create a model that produces a score that indicates whether a\n",
    "given antibody sequence appears more human or mouse__. <BR>\n",
    "You can adapt the peds2019\n",
    "model to simplify the task, but if you think some other architecture would be better, go\n",
    "ahead. You can use just the sequence data from the peds2019 repo for the purpose of this\n",
    "task (variable length, vlen), though if you feel strong enough nothing stops you from using\n",
    "more of our data (__antibodymap.org__). <BR>Your model should receive an antibody sequence on - input and produce a score that indicates whether a sequence is more human than our mouse.\n",
    "You should be able to communicate your results via a notebook similar to this in peds2019\n",
    "repo: https://github.com/vkola-lab/peds2019/blob/master/tutorial.ipynb\n",
    "\n",
    "\n",
    "# Basic docs\n",
    "\n",
    "Some reading for this task:\n",
    "- Basics of antibody structure, function and a bit on ‘humanization’ (here) to give you => https://academic.oup.com/bib/article/21/5/1549/5581643\n",
    "an idea of the data we deal with and problems we solve.\n",
    "- bi-LSTM model of antibody sequences that you might be using as a basis for this task => https://academic.oup.com/peds/article/32/7/347/5554642\n",
    "(here)."
   ]
  },
  {
   "cell_type": "markdown",
   "id": "7e417ee2-f848-4d00-a53f-3f481d5accad",
   "metadata": {},
   "source": [
    "# glosary\n",
    "\n",
    "__Immunogenicity__ => the ability of a foreign substance, such as an antigen, to provoke an immune response in the body of a human or other animal.  <BR>\n",
    "__murine antibodies__ => Murine: A murine antibody is one of which both chain types are of mouse origin. A murine antibody is identified by the pre-stem -o- in its  <BR>\n",
    "__binding mediated by CDRs__ =>  Complementarity-determining region (CDR) sequences are variable antibody (Ab) sequences that respond with specificity, duration and strength to identify and bind to antigen (Ag) epitopes  <BR>\n",
    "__paratope__ => antigen-binding site  <BR>\n",
    "__immunogenicity values__ => ??  <BR>\n",
    "__Monoclonal antibody__ => ?? <BR>\n",
    "\n",
    "chimerization => involves the combining of a murine variable domain with human constant region domains,   <BR>\n",
    "__humanization__ => involves grafting the murine CDR sequences into a human scaffol  <BR>\n",
    "\n",
    "high homology to the original sequence of interest are chosen as a scaffold (8). Some murine residues in framework regions, referred to as __vernier zone residues__, affect the conformation of __CDR loops__ and may therefore be __retained__ to preserve antibody affinit   <BR>\n",
    "... <BR>\n",
    "the score can correspond to the sequence identity of the closest germline sequence or the average among a set of sequences (11). Recent models take account of both preferences of particular residues and pair correlations between amino acids (12). A\n",
    "__Multivariate Gaussian__ model (MG) utilized a statistical inference approach (13) and could distinguish human from\n",
    "murine sequences accurately, but the score demonstrated only\n",
    "a __weak negative__ correlation to experimental immunogenicity\n",
    "level <BR><BR>\n",
    "    __Hu-mAb__ => __random forest models__, we have constructed classifiers that accurately distinguish between each human V gene\n",
    "and non-human variable domain sequences. The ‘humanness’ scores produced by these classifiers exhibited a negative\n",
    "relationship with observed immunogenicity levels https://opig.stats.ox.ac.uk/webapps/humab  <BR>\n",
    "OAS IgG dataset<BR>\n",
    "for each V gene as __PCA demonstrated trivial clustering__ <BR>\n",
    "__Youden’s J statistic__ (YJS; see Methods) <BR>"
   ]
  },
  {
   "cell_type": "markdown",
   "id": "16ad6f03-5f1b-4970-98e4-1cabf8ffbcba",
   "metadata": {},
   "source": [
    "# Peds 2019 data check"
   ]
  },
  {
   "cell_type": "code",
   "execution_count": 8,
   "id": "4b9df34a-48a3-4508-8972-3db7507ac718",
   "metadata": {},
   "outputs": [
    {
     "data": {
      "text/plain": [
       "(510101, 76515, 76515, 357071)"
      ]
     },
     "execution_count": 8,
     "metadata": {},
     "output_type": "execute_result"
    }
   ],
   "source": [
    "import pandas as pd\n",
    "import seaborn as sns\n",
    "import matplotlib.pyplot as plt\n",
    "\n",
    "test = pd.read_csv('./data/sample/human_test_vlen.txt',header=None, encoding='utf-8',names=['seq'])\n",
    "test.loc[:,'data_type']='test'\n",
    "val = pd.read_csv('./data/sample/human_val_vlen.txt',header=None, encoding='utf-8',names=['seq'])\n",
    "val.loc[:,'data_type']='val'\n",
    "train = pd.read_csv('./data/sample/human_train_vlen.txt',header=None, encoding='utf-8',names=['seq'])\n",
    "train.loc[:,'data_type']='train'\n",
    "\n",
    "data=pd.concat([test,val,train])\n",
    "data['seq_len'] = data.seq.str.len()\n",
    "len(data), len(val), len(test), len(train)"
   ]
  },
  {
   "cell_type": "code",
   "execution_count": 40,
   "id": "b252fe80-7791-4b25-8489-8e7e19f35e0b",
   "metadata": {},
   "outputs": [
    {
     "data": {
      "image/png": "[encoded data removed]",
      "text/plain": [
       "<Figure size 432x288 with 1 Axes>"
      ]
     },
     "metadata": {
      "needs_background": "light"
     },
     "output_type": "display_data"
    },
    {
     "data": {
      "image/png": "[encoded data removed]",
      "text/plain": [
       "<Figure size 432x288 with 1 Axes>"
      ]
     },
     "metadata": {
      "needs_background": "light"
     },
     "output_type": "display_data"
    },
    {
     "data": {
      "image/png": "[encoded data removed]",
      "text/plain": [
       "<Figure size 432x288 with 1 Axes>"
      ]
     },
     "metadata": {
      "needs_background": "light"
     },
     "output_type": "display_data"
    },
    {
     "data": {
      "text/html": [
       "<div>\n",
       "<style scoped>\n",
       "    .dataframe tbody tr th:only-of-type {\n",
       "        vertical-align: middle;\n",
       "    }\n",
       "\n",
       "    .dataframe tbody tr th {\n",
       "        vertical-align: top;\n",
       "    }\n",
       "\n",
       "    .dataframe thead th {\n",
       "        text-align: right;\n",
       "    }\n",
       "</style>\n",
       "<table border=\"1\" class=\"dataframe\">\n",
       "  <thead>\n",
       "    <tr style=\"text-align: right;\">\n",
       "      <th></th>\n",
       "      <th>test</th>\n",
       "      <th>val</th>\n",
       "      <th>train</th>\n",
       "    </tr>\n",
       "  </thead>\n",
       "  <tbody>\n",
       "    <tr>\n",
       "      <th>count</th>\n",
       "      <td>76515.000000</td>\n",
       "      <td>76515.000000</td>\n",
       "      <td>357071.000000</td>\n",
       "    </tr>\n",
       "    <tr>\n",
       "      <th>mean</th>\n",
       "      <td>122.152415</td>\n",
       "      <td>122.136901</td>\n",
       "      <td>122.124107</td>\n",
       "    </tr>\n",
       "    <tr>\n",
       "      <th>std</th>\n",
       "      <td>4.345305</td>\n",
       "      <td>4.348721</td>\n",
       "      <td>4.359591</td>\n",
       "    </tr>\n",
       "    <tr>\n",
       "      <th>min</th>\n",
       "      <td>99.000000</td>\n",
       "      <td>97.000000</td>\n",
       "      <td>85.000000</td>\n",
       "    </tr>\n",
       "    <tr>\n",
       "      <th>25%</th>\n",
       "      <td>119.000000</td>\n",
       "      <td>119.000000</td>\n",
       "      <td>119.000000</td>\n",
       "    </tr>\n",
       "    <tr>\n",
       "      <th>50%</th>\n",
       "      <td>122.000000</td>\n",
       "      <td>122.000000</td>\n",
       "      <td>122.000000</td>\n",
       "    </tr>\n",
       "    <tr>\n",
       "      <th>75%</th>\n",
       "      <td>125.000000</td>\n",
       "      <td>125.000000</td>\n",
       "      <td>125.000000</td>\n",
       "    </tr>\n",
       "    <tr>\n",
       "      <th>max</th>\n",
       "      <td>139.000000</td>\n",
       "      <td>139.000000</td>\n",
       "      <td>139.000000</td>\n",
       "    </tr>\n",
       "  </tbody>\n",
       "</table>\n",
       "</div>"
      ],
      "text/plain": [
       "               test           val          train\n",
       "count  76515.000000  76515.000000  357071.000000\n",
       "mean     122.152415    122.136901     122.124107\n",
       "std        4.345305      4.348721       4.359591\n",
       "min       99.000000     97.000000      85.000000\n",
       "25%      119.000000    119.000000     119.000000\n",
       "50%      122.000000    122.000000     122.000000\n",
       "75%      125.000000    125.000000     125.000000\n",
       "max      139.000000    139.000000     139.000000"
      ]
     },
     "execution_count": 40,
     "metadata": {},
     "output_type": "execute_result"
    }
   ],
   "source": [
    "stats={}\n",
    "for data_type in data['data_type'].unique():\n",
    "    selected = data[data.data_type == data_type]\n",
    "    g = sns.histplot(selected.seq.str.len())\n",
    "    g.set_title(f'data type: {data_type}')\n",
    "    stats[data_type]=selected.seq_len.describe()\n",
    "    plt.show()\n",
    "pd.DataFrame(stats)"
   ]
  },
  {
   "cell_type": "markdown",
   "id": "ad4c85d6-98d2-4f44-bbe9-4d50ccb43d98",
   "metadata": {},
   "source": [
    "*insights*\n",
    "- datasets are comparable in terms of sequence:size, variance, distribution \n",
    "- train set contains shorter sequences than test/val "
   ]
  },
  {
   "cell_type": "code",
   "execution_count": 41,
   "id": "9f4eb18a-6f46-4ee6-b9ed-30c1bc217d3e",
   "metadata": {},
   "outputs": [],
   "source": [
    "mouse = pd.read_csv('./data/sample/mouse_test_vlen.txt',header=None, encoding='utf-8',names=['seq'])\n",
    "mouse['seq_len']=mouse.seq.str.len()"
   ]
  },
  {
   "cell_type": "code",
   "execution_count": 42,
   "id": "1a744cdf-8d79-4283-b01e-25cbbd30bf1f",
   "metadata": {},
   "outputs": [
    {
     "data": {
      "text/plain": [
       "count    500000.000000\n",
       "mean        119.445514\n",
       "std           3.015337\n",
       "min          88.000000\n",
       "25%         118.000000\n",
       "50%         120.000000\n",
       "75%         121.000000\n",
       "max         137.000000\n",
       "Name: seq_len, dtype: float64"
      ]
     },
     "execution_count": 42,
     "metadata": {},
     "output_type": "execute_result"
    },
    {
     "data": {
      "image/png": "[encoded data removed]",
      "text/plain": [
       "<Figure size 432x288 with 1 Axes>"
      ]
     },
     "metadata": {
      "needs_background": "light"
     },
     "output_type": "display_data"
    }
   ],
   "source": [
    "sns.histplot(mouse.seq_len)\n",
    "mouse.seq_len.describe()"
   ]
  },
  {
   "cell_type": "markdown",
   "id": "beeca0ed-40f1-44d9-9b5f-71716ddc224e",
   "metadata": {},
   "source": [
    "*insights*\n",
    "- there is less variabillity in the mouse seq len\n",
    "- human and mouse datasets looks comperable from perspective of seq len"
   ]
  }
 ],
 "metadata": {
  "kernelspec": {
   "display_name": "Python 3 (ipykernel)",
   "language": "python",
   "name": "python3"
  },
  "language_info": {
   "codemirror_mode": {
    "name": "ipython",
    "version": 3
   },
   "file_extension": ".py",
   "mimetype": "text/x-python",
   "name": "python",
   "nbconvert_exporter": "python",
   "pygments_lexer": "ipython3",
   "version": "3.7.12"
  }
 },
 "nbformat": 4,
 "nbformat_minor": 5
}

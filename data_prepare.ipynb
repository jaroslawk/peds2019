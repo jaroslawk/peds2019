{
 "cells": [
  {
   "cell_type": "code",
   "execution_count": 26,
   "id": "bb200c0c-9ad2-4d55-8c38-d0802d335fdf",
   "metadata": {},
   "outputs": [
    {
     "data": {
      "text/plain": [
       "499976"
      ]
     },
     "execution_count": 26,
     "metadata": {},
     "output_type": "execute_result"
    }
   ],
   "source": [
    "import pandas as pd\n",
    "mouse = (pd.read_csv('./data/sample/mouse_test_vlen.txt',header=None, encoding='utf-8',names=['seq'])\n",
    "           .drop_duplicates())\n",
    "len(mouse.seq.unique())"
   ]
  },
  {
   "cell_type": "code",
   "execution_count": 27,
   "id": "eb3d4d5e-4647-4d47-988a-c94ee8abd146",
   "metadata": {},
   "outputs": [
    {
     "data": {
      "text/plain": [
       "(349983, 74996, 74997)"
      ]
     },
     "execution_count": 27,
     "metadata": {},
     "output_type": "execute_result"
    }
   ],
   "source": [
    "subset = mouse.sample(frac=0.30, random_state=42)\n",
    "train = mouse[~mouse.seq.isin(subset.seq.tolist())]\n",
    "test = subset.sample(frac=0.5, random_state=42)\n",
    "val = subset[~subset.seq.isin(test.seq.tolist())]\n",
    "len(train), len(test), len(val)"
   ]
  },
  {
   "cell_type": "code",
   "execution_count": 29,
   "id": "58f2576b-c242-4faa-8528-9380fbb02063",
   "metadata": {},
   "outputs": [],
   "source": [
    "train.to_csv('./data/sample/mouse2_train_vlen.txt',header=None,index=None)\n",
    "test.to_csv('./data/sample/mouse2_test_vlen.txt',header=None,index=None)\n",
    "val.to_csv('./data/sample/mouse2_val_vlen.txt',header=None,index=None)"
   ]
  },
  {
   "cell_type": "code",
   "execution_count": null,
   "id": "093d2e79-4d79-479b-8bfb-5a2dc6196b8b",
   "metadata": {},
   "outputs": [],
   "source": []
  }
 ],
 "metadata": {
  "kernelspec": {
   "display_name": "Python 3 (ipykernel)",
   "language": "python",
   "name": "python3"
  },
  "language_info": {
   "codemirror_mode": {
    "name": "ipython",
    "version": 3
   },
   "file_extension": ".py",
   "mimetype": "text/x-python",
   "name": "python",
   "nbconvert_exporter": "python",
   "pygments_lexer": "ipython3",
   "version": "3.7.12"
  }
 },
 "nbformat": 4,
 "nbformat_minor": 5
}
